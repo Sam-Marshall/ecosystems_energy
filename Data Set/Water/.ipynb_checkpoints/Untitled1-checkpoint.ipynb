{
 "cells": [
  {
   "cell_type": "code",
   "execution_count": 1,
   "metadata": {},
   "outputs": [],
   "source": [
    "import pandas as pd\n",
    "file = \"Potable_Water.csv\"\n",
    "df_original = pd.read_csv(file)"
   ]
  },
  {
   "cell_type": "code",
   "execution_count": 6,
   "metadata": {},
   "outputs": [
    {
     "data": {
      "text/html": [
       "<div>\n",
       "<style scoped>\n",
       "    .dataframe tbody tr th:only-of-type {\n",
       "        vertical-align: middle;\n",
       "    }\n",
       "\n",
       "    .dataframe tbody tr th {\n",
       "        vertical-align: top;\n",
       "    }\n",
       "\n",
       "    .dataframe thead th {\n",
       "        text-align: right;\n",
       "    }\n",
       "</style>\n",
       "<table border=\"1\" class=\"dataframe\">\n",
       "  <thead>\n",
       "    <tr style=\"text-align: right;\">\n",
       "      <th></th>\n",
       "      <th>Country</th>\n",
       "      <th>Variable</th>\n",
       "      <th>Year</th>\n",
       "      <th>Unit</th>\n",
       "      <th>Value</th>\n",
       "    </tr>\n",
       "  </thead>\n",
       "  <tbody>\n",
       "    <tr>\n",
       "      <th>0</th>\n",
       "      <td>Australia</td>\n",
       "      <td>Public water supply</td>\n",
       "      <td>2005</td>\n",
       "      <td>Cubic metres</td>\n",
       "      <td>10331.400024</td>\n",
       "    </tr>\n",
       "    <tr>\n",
       "      <th>1</th>\n",
       "      <td>Australia</td>\n",
       "      <td>Public water supply</td>\n",
       "      <td>2009</td>\n",
       "      <td>Cubic metres</td>\n",
       "      <td>8873.000000</td>\n",
       "    </tr>\n",
       "    <tr>\n",
       "      <th>2</th>\n",
       "      <td>Australia</td>\n",
       "      <td>Public water supply</td>\n",
       "      <td>2010</td>\n",
       "      <td>Cubic metres</td>\n",
       "      <td>8604.000000</td>\n",
       "    </tr>\n",
       "    <tr>\n",
       "      <th>3</th>\n",
       "      <td>Australia</td>\n",
       "      <td>Public water supply</td>\n",
       "      <td>2011</td>\n",
       "      <td>Cubic metres</td>\n",
       "      <td>7106.000000</td>\n",
       "    </tr>\n",
       "    <tr>\n",
       "      <th>4</th>\n",
       "      <td>Austria</td>\n",
       "      <td>Public water supply</td>\n",
       "      <td>2010</td>\n",
       "      <td>Cubic metres</td>\n",
       "      <td>587.000000</td>\n",
       "    </tr>\n",
       "  </tbody>\n",
       "</table>\n",
       "</div>"
      ],
      "text/plain": [
       "     Country             Variable  Year          Unit         Value\n",
       "0  Australia  Public water supply  2005  Cubic metres  10331.400024\n",
       "1  Australia  Public water supply  2009  Cubic metres   8873.000000\n",
       "2  Australia  Public water supply  2010  Cubic metres   8604.000000\n",
       "3  Australia  Public water supply  2011  Cubic metres   7106.000000\n",
       "4    Austria  Public water supply  2010  Cubic metres    587.000000"
      ]
     },
     "execution_count": 6,
     "metadata": {},
     "output_type": "execute_result"
    }
   ],
   "source": [
    "potable_water = df_original[[\"Country\",\"Variable\",\"Year\",\"Unit\",\"Value\"]]\n",
    "potable_water.head()"
   ]
  },
  {
   "cell_type": "code",
   "execution_count": 9,
   "metadata": {},
   "outputs": [],
   "source": [
    "public_water = potable_water.loc[potable_water[\"Variable\"] == \"Public water supply\",:]\n",
    "public_water = public_water.loc[public_water[\"Value\"] > 0,:]\n",
    "public_water = public_water.reset_index(drop=True)\n",
    "\n",
    "\n",
    "greywater = potable_water.loc[potable_water[\"Variable\"] == \"Total gross abstraction non-freshwater\",:]\n",
    "greywater = greywater.loc[greywater[\"Value\"] > 0,:]\n",
    "greywater = greywater.reset_index(drop=True)\n",
    "\n",
    "potable_water_amount = potable_water.loc[potable_water[\"Variable\"] == \"Total water made available for use\",:]\n",
    "potable_water_amount = potable_water_amount.loc[potable_water_amount[\"Value\"] > 0,:]\n",
    "potable_water_amount = potable_water_amount.reset_index(drop=True)\n",
    "\n",
    "public_water.to_csv('public_water.csv', header=True, index_label=True)\n",
    "greywater.to_csv('greywater.csv', header=True, index_label=True)\n",
    "potable_water_amount.to_csv('potable_water_amount.csv', header=True, index_label=True)"
   ]
  },
  {
   "cell_type": "code",
   "execution_count": null,
   "metadata": {},
   "outputs": [],
   "source": []
  },
  {
   "cell_type": "code",
   "execution_count": null,
   "metadata": {},
   "outputs": [],
   "source": []
  },
  {
   "cell_type": "code",
   "execution_count": null,
   "metadata": {},
   "outputs": [],
   "source": []
  }
 ],
 "metadata": {
  "kernelspec": {
   "display_name": "Python 3",
   "language": "python",
   "name": "python3"
  },
  "language_info": {
   "codemirror_mode": {
    "name": "ipython",
    "version": 3
   },
   "file_extension": ".py",
   "mimetype": "text/x-python",
   "name": "python",
   "nbconvert_exporter": "python",
   "pygments_lexer": "ipython3",
   "version": "3.6.5"
  }
 },
 "nbformat": 4,
 "nbformat_minor": 2
}
