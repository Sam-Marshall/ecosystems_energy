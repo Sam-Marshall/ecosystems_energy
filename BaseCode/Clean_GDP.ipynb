{
 "cells": [
  {
   "cell_type": "code",
   "execution_count": 1,
   "metadata": {},
   "outputs": [],
   "source": [
    "import pandas as pd"
   ]
  },
  {
   "cell_type": "code",
   "execution_count": 2,
   "metadata": {},
   "outputs": [],
   "source": [
    "GDP = pd.read_csv('../Data/Green_socio_economic.csv')"
   ]
  },
  {
   "cell_type": "code",
   "execution_count": 3,
   "metadata": {},
   "outputs": [
    {
     "data": {
      "text/html": [
       "<div>\n",
       "<style scoped>\n",
       "    .dataframe tbody tr th:only-of-type {\n",
       "        vertical-align: middle;\n",
       "    }\n",
       "\n",
       "    .dataframe tbody tr th {\n",
       "        vertical-align: top;\n",
       "    }\n",
       "\n",
       "    .dataframe thead th {\n",
       "        text-align: right;\n",
       "    }\n",
       "</style>\n",
       "<table border=\"1\" class=\"dataframe\">\n",
       "  <thead>\n",
       "    <tr style=\"text-align: right;\">\n",
       "      <th></th>\n",
       "      <th>COU</th>\n",
       "      <th>Country</th>\n",
       "      <th>VAR</th>\n",
       "      <th>Variable</th>\n",
       "      <th>YEA</th>\n",
       "      <th>Year</th>\n",
       "      <th>Unit Code</th>\n",
       "      <th>Unit</th>\n",
       "      <th>PowerCode Code</th>\n",
       "      <th>PowerCode</th>\n",
       "      <th>Reference Period Code</th>\n",
       "      <th>Reference Period</th>\n",
       "      <th>Value</th>\n",
       "      <th>Flag Codes</th>\n",
       "      <th>Flags</th>\n",
       "    </tr>\n",
       "  </thead>\n",
       "  <tbody>\n",
       "    <tr>\n",
       "      <th>0</th>\n",
       "      <td>AUS</td>\n",
       "      <td>Australia</td>\n",
       "      <td>GDP_RCAP</td>\n",
       "      <td>Real GDP per capita</td>\n",
       "      <td>1990</td>\n",
       "      <td>1990</td>\n",
       "      <td>USD</td>\n",
       "      <td>US Dollar</td>\n",
       "      <td>0</td>\n",
       "      <td>Units</td>\n",
       "      <td>2010</td>\n",
       "      <td>2010</td>\n",
       "      <td>28772.28</td>\n",
       "      <td>NaN</td>\n",
       "      <td>NaN</td>\n",
       "    </tr>\n",
       "    <tr>\n",
       "      <th>1</th>\n",
       "      <td>AUS</td>\n",
       "      <td>Australia</td>\n",
       "      <td>GDP_RCAP</td>\n",
       "      <td>Real GDP per capita</td>\n",
       "      <td>1995</td>\n",
       "      <td>1995</td>\n",
       "      <td>USD</td>\n",
       "      <td>US Dollar</td>\n",
       "      <td>0</td>\n",
       "      <td>Units</td>\n",
       "      <td>2010</td>\n",
       "      <td>2010</td>\n",
       "      <td>31788.12</td>\n",
       "      <td>NaN</td>\n",
       "      <td>NaN</td>\n",
       "    </tr>\n",
       "    <tr>\n",
       "      <th>2</th>\n",
       "      <td>AUS</td>\n",
       "      <td>Australia</td>\n",
       "      <td>GDP_RCAP</td>\n",
       "      <td>Real GDP per capita</td>\n",
       "      <td>2000</td>\n",
       "      <td>2000</td>\n",
       "      <td>USD</td>\n",
       "      <td>US Dollar</td>\n",
       "      <td>0</td>\n",
       "      <td>Units</td>\n",
       "      <td>2010</td>\n",
       "      <td>2010</td>\n",
       "      <td>36461.33</td>\n",
       "      <td>NaN</td>\n",
       "      <td>NaN</td>\n",
       "    </tr>\n",
       "    <tr>\n",
       "      <th>3</th>\n",
       "      <td>AUS</td>\n",
       "      <td>Australia</td>\n",
       "      <td>GDP_RCAP</td>\n",
       "      <td>Real GDP per capita</td>\n",
       "      <td>2001</td>\n",
       "      <td>2001</td>\n",
       "      <td>USD</td>\n",
       "      <td>US Dollar</td>\n",
       "      <td>0</td>\n",
       "      <td>Units</td>\n",
       "      <td>2010</td>\n",
       "      <td>2010</td>\n",
       "      <td>37521.98</td>\n",
       "      <td>NaN</td>\n",
       "      <td>NaN</td>\n",
       "    </tr>\n",
       "    <tr>\n",
       "      <th>4</th>\n",
       "      <td>AUS</td>\n",
       "      <td>Australia</td>\n",
       "      <td>GDP_RCAP</td>\n",
       "      <td>Real GDP per capita</td>\n",
       "      <td>2002</td>\n",
       "      <td>2002</td>\n",
       "      <td>USD</td>\n",
       "      <td>US Dollar</td>\n",
       "      <td>0</td>\n",
       "      <td>Units</td>\n",
       "      <td>2010</td>\n",
       "      <td>2010</td>\n",
       "      <td>38232.24</td>\n",
       "      <td>NaN</td>\n",
       "      <td>NaN</td>\n",
       "    </tr>\n",
       "  </tbody>\n",
       "</table>\n",
       "</div>"
      ],
      "text/plain": [
       "   COU    Country       VAR             Variable   YEA  Year Unit Code  \\\n",
       "0  AUS  Australia  GDP_RCAP  Real GDP per capita  1990  1990       USD   \n",
       "1  AUS  Australia  GDP_RCAP  Real GDP per capita  1995  1995       USD   \n",
       "2  AUS  Australia  GDP_RCAP  Real GDP per capita  2000  2000       USD   \n",
       "3  AUS  Australia  GDP_RCAP  Real GDP per capita  2001  2001       USD   \n",
       "4  AUS  Australia  GDP_RCAP  Real GDP per capita  2002  2002       USD   \n",
       "\n",
       "        Unit  PowerCode Code PowerCode Reference Period Code Reference Period  \\\n",
       "0  US Dollar               0     Units                  2010             2010   \n",
       "1  US Dollar               0     Units                  2010             2010   \n",
       "2  US Dollar               0     Units                  2010             2010   \n",
       "3  US Dollar               0     Units                  2010             2010   \n",
       "4  US Dollar               0     Units                  2010             2010   \n",
       "\n",
       "      Value Flag Codes Flags  \n",
       "0  28772.28        NaN   NaN  \n",
       "1  31788.12        NaN   NaN  \n",
       "2  36461.33        NaN   NaN  \n",
       "3  37521.98        NaN   NaN  \n",
       "4  38232.24        NaN   NaN  "
      ]
     },
     "execution_count": 3,
     "metadata": {},
     "output_type": "execute_result"
    }
   ],
   "source": [
    "GDP.head()"
   ]
  },
  {
   "cell_type": "code",
   "execution_count": 4,
   "metadata": {},
   "outputs": [],
   "source": [
    "del GDP['COU']\n",
    "del GDP['VAR']\n",
    "del GDP['YEA']\n",
    "del GDP['Unit Code']\n",
    "del GDP['PowerCode Code']\n",
    "del GDP['Reference Period Code']\n",
    "del GDP['Reference Period']\n",
    "del GDP['Flag Codes']\n",
    "del GDP['Flags']\n",
    "del GDP['PowerCode']"
   ]
  },
  {
   "cell_type": "code",
   "execution_count": 5,
   "metadata": {},
   "outputs": [
    {
     "data": {
      "text/plain": [
       "Real GDP, Index 2000=100                              2589\n",
       "Real GDP per capita                                   2587\n",
       "Value added in services, % of total value added       2444\n",
       "Value added in agriculture, % of total value added    2444\n",
       "Value added in industry, % of total value added       2444\n",
       "Labour tax revenue, % total tax revenue               1722\n",
       "Labour tax revenue, % GDP                             1721\n",
       "Population density, inhabitants per km2                939\n",
       "Name: Variable, dtype: int64"
      ]
     },
     "execution_count": 5,
     "metadata": {},
     "output_type": "execute_result"
    }
   ],
   "source": [
    "GDP['Variable'].value_counts()"
   ]
  },
  {
   "cell_type": "code",
   "execution_count": 8,
   "metadata": {},
   "outputs": [],
   "source": [
    "#Real GDP per capita  is the only one we want?\n",
    "\n",
    "for i, g in GDP.groupby('Variable'):\n",
    "    if i == \"Real GDP per capita\":   \n",
    "        g.to_csv('../Data/clean_GDP.csv', header=True, index_label=True)"
   ]
  },
  {
   "cell_type": "code",
   "execution_count": null,
   "metadata": {},
   "outputs": [],
   "source": []
  }
 ],
 "metadata": {
  "kernelspec": {
   "display_name": "Python 3",
   "language": "python",
   "name": "python3"
  },
  "language_info": {
   "codemirror_mode": {
    "name": "ipython",
    "version": 3
   },
   "file_extension": ".py",
   "mimetype": "text/x-python",
   "name": "python",
   "nbconvert_exporter": "python",
   "pygments_lexer": "ipython3",
   "version": "3.6.4"
  }
 },
 "nbformat": 4,
 "nbformat_minor": 2
}
